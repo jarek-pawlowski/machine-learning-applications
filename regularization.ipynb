{
  "nbformat": 4,
  "nbformat_minor": 0,
  "metadata": {
    "colab": {
      "name": "regularization.ipynb",
      "provenance": [],
      "include_colab_link": true
    },
    "kernelspec": {
      "name": "python3",
      "display_name": "Python 3"
    },
    "language_info": {
      "name": "python"
    },
    "accelerator": "GPU",
    "widgets": {
      "application/vnd.jupyter.widget-state+json": {
        "cf2f5ce55b524a1da80ff025ced4bbfa": {
          "model_module": "@jupyter-widgets/controls",
          "model_name": "HBoxModel",
          "model_module_version": "1.5.0",
          "state": {
            "_dom_classes": [],
            "_model_module": "@jupyter-widgets/controls",
            "_model_module_version": "1.5.0",
            "_model_name": "HBoxModel",
            "_view_count": null,
            "_view_module": "@jupyter-widgets/controls",
            "_view_module_version": "1.5.0",
            "_view_name": "HBoxView",
            "box_style": "",
            "children": [
              "IPY_MODEL_3a3b7f07bc6a4bddb61fa670cae78419",
              "IPY_MODEL_7531d66f5e8b45358d4986bba24650a2",
              "IPY_MODEL_c74a74128d9b4b739b6caf0bad80922b"
            ],
            "layout": "IPY_MODEL_d2d8d8aa725047adacdd68a9a5e20b85"
          }
        },
        "3a3b7f07bc6a4bddb61fa670cae78419": {
          "model_module": "@jupyter-widgets/controls",
          "model_name": "HTMLModel",
          "model_module_version": "1.5.0",
          "state": {
            "_dom_classes": [],
            "_model_module": "@jupyter-widgets/controls",
            "_model_module_version": "1.5.0",
            "_model_name": "HTMLModel",
            "_view_count": null,
            "_view_module": "@jupyter-widgets/controls",
            "_view_module_version": "1.5.0",
            "_view_name": "HTMLView",
            "description": "",
            "description_tooltip": null,
            "layout": "IPY_MODEL_edc9fee4c8474143bad4a3e68629f1c1",
            "placeholder": "​",
            "style": "IPY_MODEL_befb7480b44543f1b6b470685e35d30b",
            "value": ""
          }
        },
        "7531d66f5e8b45358d4986bba24650a2": {
          "model_module": "@jupyter-widgets/controls",
          "model_name": "FloatProgressModel",
          "model_module_version": "1.5.0",
          "state": {
            "_dom_classes": [],
            "_model_module": "@jupyter-widgets/controls",
            "_model_module_version": "1.5.0",
            "_model_name": "FloatProgressModel",
            "_view_count": null,
            "_view_module": "@jupyter-widgets/controls",
            "_view_module_version": "1.5.0",
            "_view_name": "ProgressView",
            "bar_style": "success",
            "description": "",
            "description_tooltip": null,
            "layout": "IPY_MODEL_00d1075db7e1428b8c62cc89ee5f0462",
            "max": 170498071,
            "min": 0,
            "orientation": "horizontal",
            "style": "IPY_MODEL_757ca314b7cd4845963ea62f9e80ce72",
            "value": 170498071
          }
        },
        "c74a74128d9b4b739b6caf0bad80922b": {
          "model_module": "@jupyter-widgets/controls",
          "model_name": "HTMLModel",
          "model_module_version": "1.5.0",
          "state": {
            "_dom_classes": [],
            "_model_module": "@jupyter-widgets/controls",
            "_model_module_version": "1.5.0",
            "_model_name": "HTMLModel",
            "_view_count": null,
            "_view_module": "@jupyter-widgets/controls",
            "_view_module_version": "1.5.0",
            "_view_name": "HTMLView",
            "description": "",
            "description_tooltip": null,
            "layout": "IPY_MODEL_986776760f144856869bf7f7187ed660",
            "placeholder": "​",
            "style": "IPY_MODEL_cd5e9a7946054821bec697fd76be5d27",
            "value": " 170499072/? [00:11&lt;00:00, 15190513.14it/s]"
          }
        },
        "d2d8d8aa725047adacdd68a9a5e20b85": {
          "model_module": "@jupyter-widgets/base",
          "model_name": "LayoutModel",
          "model_module_version": "1.2.0",
          "state": {
            "_model_module": "@jupyter-widgets/base",
            "_model_module_version": "1.2.0",
            "_model_name": "LayoutModel",
            "_view_count": null,
            "_view_module": "@jupyter-widgets/base",
            "_view_module_version": "1.2.0",
            "_view_name": "LayoutView",
            "align_content": null,
            "align_items": null,
            "align_self": null,
            "border": null,
            "bottom": null,
            "display": null,
            "flex": null,
            "flex_flow": null,
            "grid_area": null,
            "grid_auto_columns": null,
            "grid_auto_flow": null,
            "grid_auto_rows": null,
            "grid_column": null,
            "grid_gap": null,
            "grid_row": null,
            "grid_template_areas": null,
            "grid_template_columns": null,
            "grid_template_rows": null,
            "height": null,
            "justify_content": null,
            "justify_items": null,
            "left": null,
            "margin": null,
            "max_height": null,
            "max_width": null,
            "min_height": null,
            "min_width": null,
            "object_fit": null,
            "object_position": null,
            "order": null,
            "overflow": null,
            "overflow_x": null,
            "overflow_y": null,
            "padding": null,
            "right": null,
            "top": null,
            "visibility": null,
            "width": null
          }
        },
        "edc9fee4c8474143bad4a3e68629f1c1": {
          "model_module": "@jupyter-widgets/base",
          "model_name": "LayoutModel",
          "model_module_version": "1.2.0",
          "state": {
            "_model_module": "@jupyter-widgets/base",
            "_model_module_version": "1.2.0",
            "_model_name": "LayoutModel",
            "_view_count": null,
            "_view_module": "@jupyter-widgets/base",
            "_view_module_version": "1.2.0",
            "_view_name": "LayoutView",
            "align_content": null,
            "align_items": null,
            "align_self": null,
            "border": null,
            "bottom": null,
            "display": null,
            "flex": null,
            "flex_flow": null,
            "grid_area": null,
            "grid_auto_columns": null,
            "grid_auto_flow": null,
            "grid_auto_rows": null,
            "grid_column": null,
            "grid_gap": null,
            "grid_row": null,
            "grid_template_areas": null,
            "grid_template_columns": null,
            "grid_template_rows": null,
            "height": null,
            "justify_content": null,
            "justify_items": null,
            "left": null,
            "margin": null,
            "max_height": null,
            "max_width": null,
            "min_height": null,
            "min_width": null,
            "object_fit": null,
            "object_position": null,
            "order": null,
            "overflow": null,
            "overflow_x": null,
            "overflow_y": null,
            "padding": null,
            "right": null,
            "top": null,
            "visibility": null,
            "width": null
          }
        },
        "befb7480b44543f1b6b470685e35d30b": {
          "model_module": "@jupyter-widgets/controls",
          "model_name": "DescriptionStyleModel",
          "model_module_version": "1.5.0",
          "state": {
            "_model_module": "@jupyter-widgets/controls",
            "_model_module_version": "1.5.0",
            "_model_name": "DescriptionStyleModel",
            "_view_count": null,
            "_view_module": "@jupyter-widgets/base",
            "_view_module_version": "1.2.0",
            "_view_name": "StyleView",
            "description_width": ""
          }
        },
        "00d1075db7e1428b8c62cc89ee5f0462": {
          "model_module": "@jupyter-widgets/base",
          "model_name": "LayoutModel",
          "model_module_version": "1.2.0",
          "state": {
            "_model_module": "@jupyter-widgets/base",
            "_model_module_version": "1.2.0",
            "_model_name": "LayoutModel",
            "_view_count": null,
            "_view_module": "@jupyter-widgets/base",
            "_view_module_version": "1.2.0",
            "_view_name": "LayoutView",
            "align_content": null,
            "align_items": null,
            "align_self": null,
            "border": null,
            "bottom": null,
            "display": null,
            "flex": null,
            "flex_flow": null,
            "grid_area": null,
            "grid_auto_columns": null,
            "grid_auto_flow": null,
            "grid_auto_rows": null,
            "grid_column": null,
            "grid_gap": null,
            "grid_row": null,
            "grid_template_areas": null,
            "grid_template_columns": null,
            "grid_template_rows": null,
            "height": null,
            "justify_content": null,
            "justify_items": null,
            "left": null,
            "margin": null,
            "max_height": null,
            "max_width": null,
            "min_height": null,
            "min_width": null,
            "object_fit": null,
            "object_position": null,
            "order": null,
            "overflow": null,
            "overflow_x": null,
            "overflow_y": null,
            "padding": null,
            "right": null,
            "top": null,
            "visibility": null,
            "width": null
          }
        },
        "757ca314b7cd4845963ea62f9e80ce72": {
          "model_module": "@jupyter-widgets/controls",
          "model_name": "ProgressStyleModel",
          "model_module_version": "1.5.0",
          "state": {
            "_model_module": "@jupyter-widgets/controls",
            "_model_module_version": "1.5.0",
            "_model_name": "ProgressStyleModel",
            "_view_count": null,
            "_view_module": "@jupyter-widgets/base",
            "_view_module_version": "1.2.0",
            "_view_name": "StyleView",
            "bar_color": null,
            "description_width": ""
          }
        },
        "986776760f144856869bf7f7187ed660": {
          "model_module": "@jupyter-widgets/base",
          "model_name": "LayoutModel",
          "model_module_version": "1.2.0",
          "state": {
            "_model_module": "@jupyter-widgets/base",
            "_model_module_version": "1.2.0",
            "_model_name": "LayoutModel",
            "_view_count": null,
            "_view_module": "@jupyter-widgets/base",
            "_view_module_version": "1.2.0",
            "_view_name": "LayoutView",
            "align_content": null,
            "align_items": null,
            "align_self": null,
            "border": null,
            "bottom": null,
            "display": null,
            "flex": null,
            "flex_flow": null,
            "grid_area": null,
            "grid_auto_columns": null,
            "grid_auto_flow": null,
            "grid_auto_rows": null,
            "grid_column": null,
            "grid_gap": null,
            "grid_row": null,
            "grid_template_areas": null,
            "grid_template_columns": null,
            "grid_template_rows": null,
            "height": null,
            "justify_content": null,
            "justify_items": null,
            "left": null,
            "margin": null,
            "max_height": null,
            "max_width": null,
            "min_height": null,
            "min_width": null,
            "object_fit": null,
            "object_position": null,
            "order": null,
            "overflow": null,
            "overflow_x": null,
            "overflow_y": null,
            "padding": null,
            "right": null,
            "top": null,
            "visibility": null,
            "width": null
          }
        },
        "cd5e9a7946054821bec697fd76be5d27": {
          "model_module": "@jupyter-widgets/controls",
          "model_name": "DescriptionStyleModel",
          "model_module_version": "1.5.0",
          "state": {
            "_model_module": "@jupyter-widgets/controls",
            "_model_module_version": "1.5.0",
            "_model_name": "DescriptionStyleModel",
            "_view_count": null,
            "_view_module": "@jupyter-widgets/base",
            "_view_module_version": "1.2.0",
            "_view_name": "StyleView",
            "description_width": ""
          }
        }
      }
    }
  },
  "cells": [
    {
      "cell_type": "markdown",
      "metadata": {
        "id": "view-in-github",
        "colab_type": "text"
      },
      "source": [
        "<a href=\"https://colab.research.google.com/github/jarek-pawlowski/machine-learning-applications/blob/main/regularization.ipynb\" target=\"_parent\"><img src=\"https://colab.research.google.com/assets/colab-badge.svg\" alt=\"Open In Colab\"/></a>"
      ]
    },
    {
      "cell_type": "markdown",
      "metadata": {
        "id": "796WOHUh5lOF"
      },
      "source": [
        "# Reguralization in CNN networks\n",
        "- we are going to compare various approaches to regularizarion in neural networks,\n",
        "- we will use standard image classification task with CNN networks."
      ]
    },
    {
      "cell_type": "code",
      "metadata": {
        "id": "BfhWChzQmaaJ"
      },
      "source": [
        "import torch\n",
        "import torch.nn as nn\n",
        "import torch.nn.functional as F\n",
        "import torch.optim as optim\n",
        "import torchvision\n",
        "import torchvision.transforms as transforms\n",
        "import torchvision.datasets as datasets\n",
        "import torchvision.models as models\n",
        "\n",
        "import numpy as np\n",
        "\n",
        "import matplotlib.pyplot as plt\n",
        "plt.rcParams.update({'font.size': 14})\n",
        "\n",
        "model_args = {}\n",
        "# we will use batch size of 64 in Stochastic Gradient Descent (SGD) optimization of the network\n",
        "model_args['batch_size'] = 64 \n",
        "# learning rate is how fast it will descend\n",
        "model_args['lr'] = .07\n",
        "# the number of epochs is the number of times you go through the full dataset\n",
        "model_args['epochs'] = 20\n",
        "# L2 (ridge) penalty\n",
        "model_args['L2_lambda'] = 5.e-3\n",
        "# L1 (LASSO) penalty\n",
        "model_args['L1_lambda'] = 2.e-4"
      ],
      "execution_count": null,
      "outputs": []
    },
    {
      "cell_type": "markdown",
      "metadata": {
        "id": "enkr1MTg5uW6"
      },
      "source": [
        "### Define problem\n",
        "- we are going to use CIFAR-10 [dataset](https://www.cs.toronto.edu/~kriz/cifar.html) of 32x32 color images to train image classifier,\n",
        "- in order to test various regularizations our vanilla CNN classifier should be overfitted."
      ]
    },
    {
      "cell_type": "markdown",
      "source": [
        "### Download the dataset"
      ],
      "metadata": {
        "id": "148uBaJYtu1_"
      }
    },
    {
      "cell_type": "code",
      "metadata": {
        "colab": {
          "base_uri": "https://localhost:8080/",
          "height": 102,
          "referenced_widgets": [
            "cf2f5ce55b524a1da80ff025ced4bbfa",
            "3a3b7f07bc6a4bddb61fa670cae78419",
            "7531d66f5e8b45358d4986bba24650a2",
            "c74a74128d9b4b739b6caf0bad80922b",
            "d2d8d8aa725047adacdd68a9a5e20b85",
            "edc9fee4c8474143bad4a3e68629f1c1",
            "befb7480b44543f1b6b470685e35d30b",
            "00d1075db7e1428b8c62cc89ee5f0462",
            "757ca314b7cd4845963ea62f9e80ce72",
            "986776760f144856869bf7f7187ed660",
            "cd5e9a7946054821bec697fd76be5d27"
          ]
        },
        "id": "YVnoNdKorEDe",
        "outputId": "236d3458-8612-410d-8e32-2428d7612fdc"
      },
      "source": [
        "!rm -r ./data\n",
        "# normalize dataset\n",
        "mean = [0.485, 0.456, 0.406]\n",
        "std = [0.229, 0.224, 0.225]\n",
        "transform = transforms.Compose([transforms.ToTensor(),transforms.Normalize(mean, std)])\n",
        "\n",
        "cifar10_train = datasets.CIFAR10(root='./data', train=True, download=True, transform=transform)\n",
        "# we divide this data into training and validation subsets\n",
        "train_subset, validation_subset = torch.utils.data.random_split(cifar10_train, [40000, 10000])\n",
        "test_subset = datasets.CIFAR10(root='./data', train=False, download=True, transform=transform)\n",
        "\n",
        "# subsample to speedup training (colab has notebook lifetime limit)\n",
        "train_subset = torch.utils.data.Subset(train_subset, range(20000))\n",
        "validation_subset = torch.utils.data.Subset(validation_subset, range(5000))\n",
        "test_subset = torch.utils.data.Subset(test_subset, range(5000))\n",
        "\n",
        "# define dataloaders\n",
        "loader_kwargs = {'batch_size': model_args['batch_size'], \n",
        "                 'num_workers': 2, \n",
        "                 'pin_memory': True, \n",
        "                 'shuffle': True}\n",
        "train_loader = torch.utils.data.DataLoader(train_subset, **loader_kwargs)\n",
        "validation_loader = torch.utils.data.DataLoader(validation_subset, **loader_kwargs)\n",
        "test_loader = torch.utils.data.DataLoader(test_subset, **loader_kwargs)\n",
        "\n",
        "classes = ('plane', 'car', 'bird', 'cat', 'deer', \n",
        "           'dog', 'frog', 'horse', 'ship', 'truck')"
      ],
      "execution_count": null,
      "outputs": [
        {
          "output_type": "stream",
          "name": "stdout",
          "text": [
            "Downloading https://www.cs.toronto.edu/~kriz/cifar-10-python.tar.gz to ./data/cifar-10-python.tar.gz\n"
          ]
        },
        {
          "output_type": "display_data",
          "data": {
            "text/plain": [
              "  0%|          | 0/170498071 [00:00<?, ?it/s]"
            ],
            "application/vnd.jupyter.widget-view+json": {
              "version_major": 2,
              "version_minor": 0,
              "model_id": "cf2f5ce55b524a1da80ff025ced4bbfa"
            }
          },
          "metadata": {}
        },
        {
          "output_type": "stream",
          "name": "stdout",
          "text": [
            "Extracting ./data/cifar-10-python.tar.gz to ./data\n",
            "Files already downloaded and verified\n"
          ]
        }
      ]
    },
    {
      "cell_type": "markdown",
      "metadata": {
        "id": "wFmOjuxx36Tr"
      },
      "source": [
        "### Define CNN models and util methods\n",
        "- (over)simpified CNN\n",
        "- VGG11 (definition borrowed from *https://github.com/chengyangfu/pytorch-vgg-cifar10*)\n"
      ]
    },
    {
      "cell_type": "code",
      "metadata": {
        "id": "LAgi8fU2rsJV"
      },
      "source": [
        "class SimpleCNN(nn.Module):\n",
        "    '''\n",
        "    simple CNN model\n",
        "    '''\n",
        "    def __init__(self):\n",
        "        super().__init__()\n",
        "        self.conv1 = nn.Conv2d(3, 6, 5)\n",
        "        self.pool = nn.MaxPool2d(2, 2)\n",
        "        self.conv2 = nn.Conv2d(6, 16, 5)\n",
        "        self.fc1 = nn.Linear(16 * 5 * 5, 120)\n",
        "        self.fc2 = nn.Linear(120, 80)\n",
        "        self.fc3 = nn.Linear(80, 10)\n",
        "\n",
        "    def forward(self, x):\n",
        "        x = self.pool(F.relu(self.conv1(x)))\n",
        "        x = self.pool(F.relu(self.conv2(x)))\n",
        "        x = x.view(-1, 16 * 5 * 5)\n",
        "        x = F.relu(self.fc1(x))\n",
        "        x = F.relu(self.fc2(x))\n",
        "        x = self.fc3(x)\n",
        "        return x\n",
        "\n",
        "\n",
        "class VGG(nn.Module):\n",
        "    '''\n",
        "    VGG model \n",
        "    '''\n",
        "    def __init__(self, features):\n",
        "        super(VGG, self).__init__()\n",
        "        self.features = features\n",
        "        self.classifier = nn.Sequential(\n",
        "            nn.Dropout(),\n",
        "            nn.Linear(512, 512),\n",
        "            nn.ReLU(True),\n",
        "            nn.Dropout(),\n",
        "            nn.Linear(512, 512),\n",
        "            nn.ReLU(True),\n",
        "            nn.Linear(512, 10),\n",
        "        )\n",
        "        # Initialize weights\n",
        "        for m in self.modules():\n",
        "            if isinstance(m, nn.Conv2d):\n",
        "                n = m.kernel_size[0] * m.kernel_size[1] * m.out_channels\n",
        "                m.weight.data.normal_(0, np.sqrt(2. / n))\n",
        "                m.bias.data.zero_()\n",
        "\n",
        "    def forward(self, x):\n",
        "        x = self.features(x)\n",
        "        x = x.view(x.size(0), -1)\n",
        "        x = self.classifier(x)\n",
        "        return x\n",
        "\n",
        "def make_layers(cfg, batch_norm=False):\n",
        "    layers = []\n",
        "    in_channels = 3\n",
        "    for v in cfg:\n",
        "        if v == 'M':\n",
        "            layers += [nn.MaxPool2d(kernel_size=2, stride=2)]\n",
        "        else:\n",
        "            conv2d = nn.Conv2d(in_channels, v, kernel_size=3, padding=1)\n",
        "            if batch_norm:\n",
        "                layers += [conv2d, nn.BatchNorm2d(v), nn.ReLU(inplace=True)]\n",
        "            else:\n",
        "                layers += [conv2d, nn.ReLU(inplace=True)]\n",
        "            in_channels = v\n",
        "    return nn.Sequential(*layers)\n",
        "\n",
        "vgg_cfg = {\n",
        "    'vgg11': [64, 'M', 128, 'M', 256, 256, 'M', 512, 512, 'M', 512, 512, 'M'],\n",
        "    'vgg13': [64, 64, 'M', 128, 128, 'M', 256, 256, 'M', 512, 512, 'M', 512, 512, 'M'],\n",
        "    'vgg16': [64, 64, 'M', 128, 128, 'M', 256, 256, 256, 'M', 512, 512, 512, 'M', 512, 512, 512, 'M'],\n",
        "    'vgg19': [64, 64, 'M', 128, 128, 'M', 256, 256, 256, 256, 'M', 512, 512, 512, 512, 'M', 512, 512, 512, 512, 'M'],\n",
        "    'vgg22': [64, 64, 'M', 128, 128, 'M', 256, 256, 256, 256, 256, 'M', 512, 512, 512, 512, 512, 'M', 512, 512, 512, 512, 512, 'M']\n",
        "}\n",
        "\n",
        "\n",
        "def train_with_regularization(model, device, train_loader, optimizer, criterion, \n",
        "                              epoch_number, \n",
        "                              L1_lambda, \n",
        "                              L2_lambda):\n",
        "    model.train()\n",
        "    train_loss = 0.\n",
        "    # get subsequent batches over the data in a given epoch\n",
        "    for batch_idx, (data, target) in enumerate(train_loader):\n",
        "        # send data tensors to GPU (or CPU)\n",
        "        data, target = data.to(device), target.to(device)\n",
        "        # this will zero out the gradients for this batch\n",
        "        optimizer.zero_grad()\n",
        "        # this will execute the forward() function\n",
        "        output = model(data)\n",
        "        # calculate loss using c\n",
        "        loss = criterion(output, target)\n",
        "        # L2 regularization implemeted by hand\n",
        "        L2_norm = sum((p**2).sum() for p in model.parameters())\n",
        "        # L1 regularization\n",
        "        L1_norm = sum(p.abs().sum() for p in model.parameters())\n",
        "        #\n",
        "        loss_regularized = loss + L1_norm*L1_lambda + L2_norm*L2_lambda\n",
        "        # backpropagate the loss\n",
        "        loss_regularized.backward()\n",
        "        # update the model weights (with assumed learning rate)\n",
        "        optimizer.step()\n",
        "        train_loss += loss.item()\n",
        "    print('Train Epoch: {}'.format(epoch_number))\n",
        "    train_loss /= len(train_loader)\n",
        "    print('\\tTrain set: Average loss: {:.4f}'.format(train_loss))\n",
        "    return train_loss\n",
        "    \n",
        "def test(model, device, test_loader, criterion, message=None):\n",
        "    model.eval()\n",
        "    test_loss = 0.\n",
        "    correct = 0\n",
        "    # this is just inference, we don't need to calculate gradients\n",
        "    with torch.no_grad():\n",
        "        for data, target in test_loader:\n",
        "            data, target = data.to(device), target.to(device) \n",
        "            output = model(data)\n",
        "            # calculate and sum up batch loss\n",
        "            test_loss += criterion(output, target) \n",
        "            # get the index of class with the max probability \n",
        "            prediction = output.argmax(dim=1)  \n",
        "            #_, predicted = torch.max(outputs.data, axis=1)\n",
        "            # item() returns value of the given tensor\n",
        "            correct += prediction.eq(target).sum().item()\n",
        "    test_loss /= len(test_loader)\n",
        "    accuracy = correct / len(test_loader.dataset)\n",
        "    if message is not None:\n",
        "        print('\\t{}: Average loss: {:.4f}, Accuracy: {}/{} ({:.0f}%)'.format(\n",
        "            message, test_loss, correct, len(test_loader.dataset), 100.*accuracy))\n",
        "    return test_loss.cpu(), accuracy\n",
        "\n",
        "def run_training(model, device, criterion, optimizer, no_epochs,\n",
        "                 L1_lambda=0., \n",
        "                 L2_lambda=0.):\n",
        "    train_loss = []\n",
        "    validation_loss = []\n",
        "    validation_accuracy = []\n",
        "    test_accuracy = []\n",
        "    for epoch_number in range(1, no_epochs+1):\n",
        "        train_loss.append(train_with_regularization(model, device, train_loader, \n",
        "                                optimizer, criterion, epoch_number,\n",
        "                                L1_lambda, L2_lambda))\n",
        "        val_loss, val_acc = test(model, device, validation_loader, \n",
        "                                criterion, 'Validation set')\n",
        "        validation_loss.append(val_loss)\n",
        "        validation_accuracy.append(val_acc)\n",
        "        # we also collect test accuracies for every epoch\n",
        "        _, test_acc = test(model, device, test_loader, criterion)\n",
        "        test_accuracy.append(test_acc)\n",
        "    # and select test accuracy for the best epoch (with the highest validation accuracy)\n",
        "    best_accuracy = test_accuracy[np.argmax(validation_accuracy)]\n",
        "    return train_loss, validation_loss, best_accuracy\n",
        "\n",
        "def plot_loss(train_loss, validation_loss, title):\n",
        "    plt.grid(True)\n",
        "    plt.xlabel(\"subsequent epochs\")\n",
        "    plt.ylabel('average loss')\n",
        "    plt.plot(range(1, len(train_loss)+1), train_loss, 'o-', label='training')\n",
        "    plt.plot(range(1, len(validation_loss)+1), validation_loss, 'o-', label='validation')\n",
        "    plt.legend()\n",
        "    plt.title(title)\n",
        "    plt.show()"
      ],
      "execution_count": null,
      "outputs": []
    },
    {
      "cell_type": "markdown",
      "metadata": {
        "id": "wVfZwS4f4aYv"
      },
      "source": [
        "### Do the experiments\n",
        "- without any regularization\n",
        "- *weigt_decay*, L2 regularization implemeted in optimizer, e.g. Adam or SGD as here: see [discussion](https://discuss.pytorch.org/t/how-does-sgd-weight-decay-work/33105/6)\n",
        "- L2 and L1 regularization implemeted by hand"
      ]
    },
    {
      "cell_type": "code",
      "source": [
        "device = torch.device(\"cuda\" if torch.cuda.is_available() else \"cpu\")\n",
        "\n",
        "model = SimpleCNN().to(device)\n",
        "criterion = nn.CrossEntropyLoss()\n",
        "optimizer = optim.SGD(model.parameters(), \n",
        "                      lr=model_args['lr'],\n",
        "                      weight_decay=0.)\n",
        "\n",
        "train_loss_0, val_loss_0, best_accuracy = run_training(model, device, criterion, optimizer, model_args['epochs'])\n",
        "\n",
        "print('\\nTest accuracy for best epoch: {:.0f}%\\n'.format(100.*best_accuracy))\n",
        "plot_loss(train_loss_0, val_loss_0, 'Without any regularization')\n",
        "model_0_params = [p.detach().cpu().numpy() for p in model.parameters()]"
      ],
      "metadata": {
        "colab": {
          "base_uri": "https://localhost:8080/",
          "height": 1000
        },
        "id": "a2AOF3Im1HLg",
        "outputId": "85e98435-e979-41af-f79e-3cead67f0937"
      },
      "execution_count": null,
      "outputs": [
        {
          "output_type": "stream",
          "name": "stdout",
          "text": [
            "Train Epoch: 1\n",
            "\tTrain set: Average loss: 2.0937\n",
            "\tValidation set: Average loss: 1.8362, Accuracy: 1617/5000 (32%)\n",
            "Train Epoch: 2\n",
            "\tTrain set: Average loss: 1.7053\n",
            "\tValidation set: Average loss: 1.6802, Accuracy: 1915/5000 (38%)\n",
            "Train Epoch: 3\n",
            "\tTrain set: Average loss: 1.5377\n",
            "\tValidation set: Average loss: 1.6614, Accuracy: 2028/5000 (41%)\n",
            "Train Epoch: 4\n",
            "\tTrain set: Average loss: 1.4247\n",
            "\tValidation set: Average loss: 1.4561, Accuracy: 2363/5000 (47%)\n",
            "Train Epoch: 5\n",
            "\tTrain set: Average loss: 1.3424\n",
            "\tValidation set: Average loss: 1.4616, Accuracy: 2409/5000 (48%)\n",
            "Train Epoch: 6\n",
            "\tTrain set: Average loss: 1.2649\n",
            "\tValidation set: Average loss: 1.4852, Accuracy: 2460/5000 (49%)\n",
            "Train Epoch: 7\n",
            "\tTrain set: Average loss: 1.2045\n",
            "\tValidation set: Average loss: 1.3214, Accuracy: 2617/5000 (52%)\n",
            "Train Epoch: 8\n",
            "\tTrain set: Average loss: 1.1367\n",
            "\tValidation set: Average loss: 1.3273, Accuracy: 2668/5000 (53%)\n",
            "Train Epoch: 9\n",
            "\tTrain set: Average loss: 1.0846\n",
            "\tValidation set: Average loss: 1.4069, Accuracy: 2633/5000 (53%)\n",
            "Train Epoch: 10\n",
            "\tTrain set: Average loss: 1.0298\n",
            "\tValidation set: Average loss: 1.4541, Accuracy: 2572/5000 (51%)\n",
            "Train Epoch: 11\n",
            "\tTrain set: Average loss: 0.9859\n",
            "\tValidation set: Average loss: 1.2788, Accuracy: 2805/5000 (56%)\n",
            "Train Epoch: 12\n",
            "\tTrain set: Average loss: 0.9174\n",
            "\tValidation set: Average loss: 1.3577, Accuracy: 2751/5000 (55%)\n",
            "Train Epoch: 13\n",
            "\tTrain set: Average loss: 0.8714\n",
            "\tValidation set: Average loss: 1.3930, Accuracy: 2751/5000 (55%)\n",
            "Train Epoch: 14\n",
            "\tTrain set: Average loss: 0.8260\n",
            "\tValidation set: Average loss: 1.5197, Accuracy: 2652/5000 (53%)\n",
            "Train Epoch: 15\n",
            "\tTrain set: Average loss: 0.7907\n",
            "\tValidation set: Average loss: 1.8543, Accuracy: 2411/5000 (48%)\n",
            "Train Epoch: 16\n",
            "\tTrain set: Average loss: 0.7324\n",
            "\tValidation set: Average loss: 1.6034, Accuracy: 2634/5000 (53%)\n",
            "Train Epoch: 17\n",
            "\tTrain set: Average loss: 0.6977\n",
            "\tValidation set: Average loss: 1.5909, Accuracy: 2723/5000 (54%)\n",
            "Train Epoch: 18\n",
            "\tTrain set: Average loss: 0.6561\n",
            "\tValidation set: Average loss: 1.6315, Accuracy: 2678/5000 (54%)\n",
            "Train Epoch: 19\n",
            "\tTrain set: Average loss: 0.6198\n",
            "\tValidation set: Average loss: 1.6492, Accuracy: 2685/5000 (54%)\n",
            "Train Epoch: 20\n",
            "\tTrain set: Average loss: 0.5854\n",
            "\tValidation set: Average loss: 1.9486, Accuracy: 2561/5000 (51%)\n",
            "\n",
            "Test accuracy for best epoch: 57%\n",
            "\n"
          ]
        },
        {
          "output_type": "display_data",
          "data": {
            "text/plain": [
              "<Figure size 432x288 with 1 Axes>"
            ],
            "image/png": "[encoded data removed]"
          },
          "metadata": {
            "needs_background": "light"
          }
        }
      ]
    },
    {
      "cell_type": "code",
      "metadata": {
        "id": "yLTuDOj61zc9",
        "colab": {
          "base_uri": "https://localhost:8080/",
          "height": 1000
        },
        "outputId": "0ce3a021-9072-45b3-edbf-67c2282b5601"
      },
      "source": [
        "device = torch.device(\"cuda\" if torch.cuda.is_available() else \"cpu\")\n",
        "\n",
        "model = SimpleCNN().to(device)\n",
        "criterion = nn.CrossEntropyLoss()\n",
        "optimizer = optim.SGD(model.parameters(), \n",
        "                      lr=model_args['lr'],\n",
        "                      weight_decay=model_args['L2_lambda'])\n",
        "\n",
        "train_loss_wd, val_loss_wd, best_accuracy = run_training(model, device, criterion, optimizer, model_args['epochs'])\n",
        "\n",
        "print('\\nTest accuracy for best epoch: {:.0f}%\\n'.format(100.*best_accuracy))\n",
        "plot_loss(train_loss_wd, val_loss_wd, 'SGD weight_decay used')\n",
        "model_wd_params = [p.detach().cpu().numpy() for p in model.parameters()]"
      ],
      "execution_count": null,
      "outputs": [
        {
          "output_type": "stream",
          "name": "stdout",
          "text": [
            "Train Epoch: 1\n",
            "\tTrain set: Average loss: 2.0456\n",
            "\tValidation set: Average loss: 1.8785, Accuracy: 1510/5000 (30%)\n",
            "Train Epoch: 2\n",
            "\tTrain set: Average loss: 1.6909\n",
            "\tValidation set: Average loss: 1.6338, Accuracy: 1925/5000 (38%)\n",
            "Train Epoch: 3\n",
            "\tTrain set: Average loss: 1.5336\n",
            "\tValidation set: Average loss: 1.6605, Accuracy: 2065/5000 (41%)\n",
            "Train Epoch: 4\n",
            "\tTrain set: Average loss: 1.4370\n",
            "\tValidation set: Average loss: 1.4694, Accuracy: 2375/5000 (48%)\n",
            "Train Epoch: 5\n",
            "\tTrain set: Average loss: 1.3759\n",
            "\tValidation set: Average loss: 1.4056, Accuracy: 2553/5000 (51%)\n",
            "Train Epoch: 6\n",
            "\tTrain set: Average loss: 1.3181\n",
            "\tValidation set: Average loss: 1.4678, Accuracy: 2335/5000 (47%)\n",
            "Train Epoch: 7\n",
            "\tTrain set: Average loss: 1.2665\n",
            "\tValidation set: Average loss: 1.3184, Accuracy: 2658/5000 (53%)\n",
            "Train Epoch: 8\n",
            "\tTrain set: Average loss: 1.2143\n",
            "\tValidation set: Average loss: 1.3742, Accuracy: 2641/5000 (53%)\n",
            "Train Epoch: 9\n",
            "\tTrain set: Average loss: 1.1958\n",
            "\tValidation set: Average loss: 1.3945, Accuracy: 2539/5000 (51%)\n",
            "Train Epoch: 10\n",
            "\tTrain set: Average loss: 1.1457\n",
            "\tValidation set: Average loss: 1.4992, Accuracy: 2510/5000 (50%)\n",
            "Train Epoch: 11\n",
            "\tTrain set: Average loss: 1.1196\n",
            "\tValidation set: Average loss: 1.4015, Accuracy: 2594/5000 (52%)\n",
            "Train Epoch: 12\n",
            "\tTrain set: Average loss: 1.0847\n",
            "\tValidation set: Average loss: 1.3000, Accuracy: 2745/5000 (55%)\n",
            "Train Epoch: 13\n",
            "\tTrain set: Average loss: 1.0564\n",
            "\tValidation set: Average loss: 1.3688, Accuracy: 2662/5000 (53%)\n",
            "Train Epoch: 14\n",
            "\tTrain set: Average loss: 1.0337\n",
            "\tValidation set: Average loss: 1.3359, Accuracy: 2764/5000 (55%)\n",
            "Train Epoch: 15\n",
            "\tTrain set: Average loss: 1.0031\n",
            "\tValidation set: Average loss: 1.3779, Accuracy: 2710/5000 (54%)\n",
            "Train Epoch: 16\n",
            "\tTrain set: Average loss: 0.9760\n",
            "\tValidation set: Average loss: 1.4108, Accuracy: 2635/5000 (53%)\n",
            "Train Epoch: 17\n",
            "\tTrain set: Average loss: 0.9469\n",
            "\tValidation set: Average loss: 1.2720, Accuracy: 2858/5000 (57%)\n",
            "Train Epoch: 18\n",
            "\tTrain set: Average loss: 0.9231\n",
            "\tValidation set: Average loss: 1.3220, Accuracy: 2743/5000 (55%)\n",
            "Train Epoch: 19\n",
            "\tTrain set: Average loss: 0.9021\n",
            "\tValidation set: Average loss: 1.3275, Accuracy: 2804/5000 (56%)\n",
            "Train Epoch: 20\n",
            "\tTrain set: Average loss: 0.8847\n",
            "\tValidation set: Average loss: 1.3172, Accuracy: 2811/5000 (56%)\n",
            "\n",
            "Test accuracy for best epoch: 58%\n",
            "\n"
          ]
        },
        {
          "output_type": "display_data",
          "data": {
            "text/plain": [
              "<Figure size 432x288 with 1 Axes>"
            ],
            "image/png": "[encoded data removed]"
          },
          "metadata": {
            "needs_background": "light"
          }
        }
      ]
    },
    {
      "cell_type": "code",
      "source": [
        "device = torch.device(\"cuda\" if torch.cuda.is_available() else \"cpu\")\n",
        "\n",
        "model = SimpleCNN().to(device)\n",
        "criterion = nn.CrossEntropyLoss()\n",
        "optimizer = optim.SGD(model.parameters(), \n",
        "                      lr=model_args['lr'],\n",
        "                      weight_decay=0.)\n",
        "\n",
        "train_loss_l2, val_loss_l2, best_accuracy = run_training(model, device, criterion, optimizer, model_args['epochs'],\n",
        "                                                         L1_lambda=0.,\n",
        "                                                         L2_lambda=model_args['L2_lambda']/2.)\n",
        "\n",
        "print('\\nTest accuracy for best epoch: {:.0f}%\\n'.format(100.*best_accuracy))\n",
        "plot_loss(train_loss_l2, val_loss_l2, 'L2 implemented by hand')\n",
        "model_l2_params = [p.detach().cpu().numpy() for p in model.parameters()]"
      ],
      "metadata": {
        "colab": {
          "base_uri": "https://localhost:8080/",
          "height": 1000
        },
        "id": "J1EUU0cM3AuA",
        "outputId": "456b543b-c361-469d-e380-f40523df3f76"
      },
      "execution_count": null,
      "outputs": [
        {
          "output_type": "stream",
          "name": "stdout",
          "text": [
            "Train Epoch: 1\n",
            "\tTrain set: Average loss: 2.0349\n",
            "\tValidation set: Average loss: 1.9111, Accuracy: 1601/5000 (32%)\n",
            "Train Epoch: 2\n",
            "\tTrain set: Average loss: 1.7201\n",
            "\tValidation set: Average loss: 1.9958, Accuracy: 1665/5000 (33%)\n",
            "Train Epoch: 3\n",
            "\tTrain set: Average loss: 1.5596\n",
            "\tValidation set: Average loss: 1.5181, Accuracy: 2290/5000 (46%)\n",
            "Train Epoch: 4\n",
            "\tTrain set: Average loss: 1.4679\n",
            "\tValidation set: Average loss: 1.5002, Accuracy: 2326/5000 (47%)\n",
            "Train Epoch: 5\n",
            "\tTrain set: Average loss: 1.3908\n",
            "\tValidation set: Average loss: 1.4500, Accuracy: 2485/5000 (50%)\n",
            "Train Epoch: 6\n",
            "\tTrain set: Average loss: 1.3188\n",
            "\tValidation set: Average loss: 1.3947, Accuracy: 2522/5000 (50%)\n",
            "Train Epoch: 7\n",
            "\tTrain set: Average loss: 1.2678\n",
            "\tValidation set: Average loss: 1.4287, Accuracy: 2434/5000 (49%)\n",
            "Train Epoch: 8\n",
            "\tTrain set: Average loss: 1.2149\n",
            "\tValidation set: Average loss: 1.5703, Accuracy: 2427/5000 (49%)\n",
            "Train Epoch: 9\n",
            "\tTrain set: Average loss: 1.1769\n",
            "\tValidation set: Average loss: 1.2355, Accuracy: 2835/5000 (57%)\n",
            "Train Epoch: 10\n",
            "\tTrain set: Average loss: 1.1405\n",
            "\tValidation set: Average loss: 1.2640, Accuracy: 2768/5000 (55%)\n",
            "Train Epoch: 11\n",
            "\tTrain set: Average loss: 1.1037\n",
            "\tValidation set: Average loss: 1.4633, Accuracy: 2607/5000 (52%)\n",
            "Train Epoch: 12\n",
            "\tTrain set: Average loss: 1.0835\n",
            "\tValidation set: Average loss: 2.1518, Accuracy: 2099/5000 (42%)\n",
            "Train Epoch: 13\n",
            "\tTrain set: Average loss: 1.0450\n",
            "\tValidation set: Average loss: 1.4261, Accuracy: 2652/5000 (53%)\n",
            "Train Epoch: 14\n",
            "\tTrain set: Average loss: 1.0145\n",
            "\tValidation set: Average loss: 1.3128, Accuracy: 2750/5000 (55%)\n",
            "Train Epoch: 15\n",
            "\tTrain set: Average loss: 0.9854\n",
            "\tValidation set: Average loss: 1.2391, Accuracy: 2831/5000 (57%)\n",
            "Train Epoch: 16\n",
            "\tTrain set: Average loss: 0.9684\n",
            "\tValidation set: Average loss: 1.3167, Accuracy: 2771/5000 (55%)\n",
            "Train Epoch: 17\n",
            "\tTrain set: Average loss: 0.9357\n",
            "\tValidation set: Average loss: 1.2753, Accuracy: 2826/5000 (57%)\n",
            "Train Epoch: 18\n",
            "\tTrain set: Average loss: 0.8978\n",
            "\tValidation set: Average loss: 1.3001, Accuracy: 2822/5000 (56%)\n",
            "Train Epoch: 19\n",
            "\tTrain set: Average loss: 0.8884\n",
            "\tValidation set: Average loss: 1.2819, Accuracy: 2842/5000 (57%)\n",
            "Train Epoch: 20\n",
            "\tTrain set: Average loss: 0.8711\n",
            "\tValidation set: Average loss: 1.4180, Accuracy: 2653/5000 (53%)\n",
            "\n",
            "Test accuracy for best epoch: 57%\n",
            "\n"
          ]
        },
        {
          "output_type": "display_data",
          "data": {
            "text/plain": [
              "<Figure size 432x288 with 1 Axes>"
            ],
            "image/png": "[encoded data removed]"
          },
          "metadata": {
            "needs_background": "light"
          }
        }
      ]
    },
    {
      "cell_type": "code",
      "metadata": {
        "colab": {
          "base_uri": "https://localhost:8080/",
          "height": 1000
        },
        "id": "AeZn87FK_IKZ",
        "outputId": "7370303b-0d96-44a4-e130-9f51efc4cf20"
      },
      "source": [
        "device = torch.device(\"cuda\" if torch.cuda.is_available() else \"cpu\")\n",
        "\n",
        "model = SimpleCNN().to(device)\n",
        "criterion = nn.CrossEntropyLoss()\n",
        "optimizer = optim.SGD(model.parameters(), \n",
        "                      lr=model_args['lr'],\n",
        "                      weight_decay=0.)\n",
        "\n",
        "train_loss_l1, val_loss_l1, best_accuracy = run_training(model, device, criterion, optimizer, model_args['epochs'],\n",
        "                                                         L1_lambda=model_args['L1_lambda'],\n",
        "                                                         L2_lambda=0.)\n",
        "\n",
        "print('\\nTest accuracy for best epoch: {:.0f}%\\n'.format(100.*best_accuracy))\n",
        "plot_loss(train_loss_l1, val_loss_l1, 'L1 implemented by hand')\n",
        "model_l1_params = [p.detach().cpu().numpy() for p in model.parameters()]"
      ],
      "execution_count": null,
      "outputs": [
        {
          "output_type": "stream",
          "name": "stdout",
          "text": [
            "Train Epoch: 1\n",
            "\tTrain set: Average loss: 2.0473\n",
            "\tValidation set: Average loss: 1.7564, Accuracy: 1766/5000 (35%)\n",
            "Train Epoch: 2\n",
            "\tTrain set: Average loss: 1.6842\n",
            "\tValidation set: Average loss: 2.0975, Accuracy: 1466/5000 (29%)\n",
            "Train Epoch: 3\n",
            "\tTrain set: Average loss: 1.5528\n",
            "\tValidation set: Average loss: 1.4636, Accuracy: 2396/5000 (48%)\n",
            "Train Epoch: 4\n",
            "\tTrain set: Average loss: 1.4554\n",
            "\tValidation set: Average loss: 1.5266, Accuracy: 2266/5000 (45%)\n",
            "Train Epoch: 5\n",
            "\tTrain set: Average loss: 1.3898\n",
            "\tValidation set: Average loss: 1.4993, Accuracy: 2396/5000 (48%)\n",
            "Train Epoch: 6\n",
            "\tTrain set: Average loss: 1.3245\n",
            "\tValidation set: Average loss: 1.4068, Accuracy: 2464/5000 (49%)\n",
            "Train Epoch: 7\n",
            "\tTrain set: Average loss: 1.2687\n",
            "\tValidation set: Average loss: 1.4788, Accuracy: 2446/5000 (49%)\n",
            "Train Epoch: 8\n",
            "\tTrain set: Average loss: 1.2179\n",
            "\tValidation set: Average loss: 1.4162, Accuracy: 2539/5000 (51%)\n",
            "Train Epoch: 9\n",
            "\tTrain set: Average loss: 1.1760\n",
            "\tValidation set: Average loss: 1.4658, Accuracy: 2561/5000 (51%)\n",
            "Train Epoch: 10\n",
            "\tTrain set: Average loss: 1.1308\n",
            "\tValidation set: Average loss: 1.3307, Accuracy: 2664/5000 (53%)\n",
            "Train Epoch: 11\n",
            "\tTrain set: Average loss: 1.0955\n",
            "\tValidation set: Average loss: 1.3780, Accuracy: 2643/5000 (53%)\n",
            "Train Epoch: 12\n",
            "\tTrain set: Average loss: 1.0595\n",
            "\tValidation set: Average loss: 1.3192, Accuracy: 2752/5000 (55%)\n",
            "Train Epoch: 13\n",
            "\tTrain set: Average loss: 1.0214\n",
            "\tValidation set: Average loss: 1.2623, Accuracy: 2815/5000 (56%)\n",
            "Train Epoch: 14\n",
            "\tTrain set: Average loss: 0.9873\n",
            "\tValidation set: Average loss: 1.3946, Accuracy: 2718/5000 (54%)\n",
            "Train Epoch: 15\n",
            "\tTrain set: Average loss: 0.9582\n",
            "\tValidation set: Average loss: 1.3107, Accuracy: 2822/5000 (56%)\n",
            "Train Epoch: 16\n",
            "\tTrain set: Average loss: 0.9191\n",
            "\tValidation set: Average loss: 1.4553, Accuracy: 2567/5000 (51%)\n",
            "Train Epoch: 17\n",
            "\tTrain set: Average loss: 0.9006\n",
            "\tValidation set: Average loss: 1.4871, Accuracy: 2629/5000 (53%)\n",
            "Train Epoch: 18\n",
            "\tTrain set: Average loss: 0.8740\n",
            "\tValidation set: Average loss: 1.3530, Accuracy: 2773/5000 (55%)\n",
            "Train Epoch: 19\n",
            "\tTrain set: Average loss: 0.8427\n",
            "\tValidation set: Average loss: 1.4075, Accuracy: 2712/5000 (54%)\n",
            "Train Epoch: 20\n",
            "\tTrain set: Average loss: 0.8075\n",
            "\tValidation set: Average loss: 1.3718, Accuracy: 2753/5000 (55%)\n",
            "\n",
            "Test accuracy for best epoch: 57%\n",
            "\n"
          ]
        },
        {
          "output_type": "display_data",
          "data": {
            "text/plain": [
              "<Figure size 432x288 with 1 Axes>"
            ],
            "image/png": "[encoded data removed]"
          },
          "metadata": {
            "needs_background": "light"
          }
        }
      ]
    },
    {
      "cell_type": "code",
      "source": [
        "plt.rcParams.update({'font.size': 12})\n",
        "\n",
        "plt.grid(True)\n",
        "plt.xlabel(\"subsequent epochs\")\n",
        "plt.ylabel('average loss')\n",
        "range_epochs = model_args['epochs']+1\n",
        "plt.plot(range(1, range_epochs), train_loss_0,  'o-', label='train_vanilla')\n",
        "plt.plot(range(1, range_epochs), train_loss_wd, 'o-', label='train_weight_decay')\n",
        "plt.plot(range(1, range_epochs), train_loss_l2, 'o-', label='train_L2')\n",
        "plt.plot(range(1, range_epochs), train_loss_l1, 'o-', label='train_L1')\n",
        "plt.legend()\n",
        "plt.title(\"regularizers comparison - training\")\n",
        "plt.show()\n",
        "\n",
        "plt.grid(True)\n",
        "plt.xlabel(\"subsequent epochs\")\n",
        "plt.ylabel('average loss')\n",
        "range_epochs = model_args['epochs']+1\n",
        "plt.plot(range(1, range_epochs), val_loss_0,  'o-', label='validation_vanilla')\n",
        "plt.plot(range(1, range_epochs), val_loss_wd, 'o-', label='validation_weight_decay')\n",
        "plt.plot(range(1, range_epochs), val_loss_l2, 'o-', label='validation_L2')\n",
        "plt.plot(range(1, range_epochs), val_loss_l1, 'o-', label='validation_L1')\n",
        "plt.legend()\n",
        "plt.title(\"regularizers comparison - validation\")\n",
        "plt.show()"
      ],
      "metadata": {
        "colab": {
          "base_uri": "https://localhost:8080/",
          "height": 587
        },
        "id": "L9CREagLjWdr",
        "outputId": "fe228f8f-0be1-4d1a-c22d-eaee288f4f1a"
      },
      "execution_count": null,
      "outputs": [
        {
          "output_type": "display_data",
          "data": {
            "text/plain": [
              "<Figure size 432x288 with 1 Axes>"
            ],
            "image/png": "[encoded data removed]"
          },
          "metadata": {
            "needs_background": "light"
          }
        },
        {
          "output_type": "display_data",
          "data": {
            "text/plain": [
              "<Figure size 432x288 with 1 Axes>"
            ],
            "image/png": "[encoded data removed]"
          },
          "metadata": {
            "needs_background": "light"
          }
        }
      ]
    },
    {
      "cell_type": "markdown",
      "source": [
        "Example weights:"
      ],
      "metadata": {
        "id": "MSbuYcS32uQk"
      }
    },
    {
      "cell_type": "code",
      "source": [
        "for p in model_0_params:\n",
        "    print(p.shape)\n",
        "\n",
        "np.set_printoptions(formatter={'float_kind': \"{:.3f}\".format})\n",
        "# parameters for the second from last layer\n",
        "print(\"vanilla:\\n\", model_0_params[-2][0])\n",
        "print(\"L2 regularized:\\n\", model_l2_params[-2][0])\n",
        "print(\"L1 regularized:\\n\", model_l1_params[-2][0])"
      ],
      "metadata": {
        "colab": {
          "base_uri": "https://localhost:8080/"
        },
        "id": "akMxALRrynNL",
        "outputId": "1c1f3789-21e9-4110-c769-b974ac482402"
      },
      "execution_count": null,
      "outputs": [
        {
          "output_type": "stream",
          "name": "stdout",
          "text": [
            "(6, 3, 5, 5)\n",
            "(6,)\n",
            "(16, 6, 5, 5)\n",
            "(16,)\n",
            "(120, 400)\n",
            "(120,)\n",
            "(80, 120)\n",
            "(80,)\n",
            "(10, 80)\n",
            "(10,)\n",
            "vanilla:\n",
            " [0.283 0.005 -0.117 -0.248 0.044 0.295 -0.048 -0.100 0.252 0.109 -0.008\n",
            " 0.149 0.026 0.128 0.004 0.098 -0.101 0.025 0.006 0.230 0.145 0.128 0.123\n",
            " -0.204 -0.316 -0.208 -0.111 -0.234 0.152 -0.308 -0.002 0.358 -0.109 0.164\n",
            " 0.044 0.214 0.051 -0.282 0.046 -0.195 -0.191 0.280 0.192 0.194 0.105\n",
            " -0.312 0.030 0.151 -0.010 0.123 0.195 -0.281 -0.251 0.121 -0.044 0.197\n",
            " 0.085 -0.031 0.204 -0.192 -0.135 -0.224 0.218 -0.283 -0.432 -0.262 0.173\n",
            " -0.146 0.199 -0.310 -0.020 0.166 0.030 0.012 0.121 0.361 0.048 0.327\n",
            " -0.152 0.181]\n",
            "L2 regularized:\n",
            " [0.020 0.124 0.055 -0.155 -0.034 0.275 0.161 -0.170 0.038 -0.009 0.174\n",
            " 0.036 0.148 -0.091 0.211 -0.247 -0.002 -0.082 -0.214 0.087 0.012 -0.155\n",
            " 0.202 0.147 -0.172 0.080 0.038 0.083 0.005 0.214 0.012 -0.073 0.072 0.018\n",
            " -0.025 0.116 0.002 -0.005 -0.111 -0.027 0.169 -0.161 -0.148 0.164 -0.034\n",
            " 0.077 -0.114 0.032 -0.227 0.364 0.013 -0.098 0.273 0.184 0.035 -0.089\n",
            " 0.232 -0.037 0.018 -0.048 0.161 0.017 0.034 0.069 0.020 -0.015 -0.204\n",
            " -0.111 0.176 -0.161 -0.110 -0.065 -0.137 -0.242 -0.073 0.000 -0.021\n",
            " -0.006 -0.258 0.014]\n",
            "L1 regularized:\n",
            " [-0.082 0.093 -0.000 -0.180 0.000 0.156 0.017 -0.211 -0.378 0.014 -0.007\n",
            " 0.182 0.074 -0.107 0.236 -0.167 0.001 -0.218 -0.016 0.047 -0.134 -0.181\n",
            " 0.260 -0.029 -0.090 0.290 -0.014 0.233 0.243 0.000 -0.007 0.150 -0.003\n",
            " 0.001 -0.000 0.341 0.011 0.139 0.063 -0.027 0.069 -0.010 0.004 -0.284\n",
            " 0.008 -0.101 0.006 0.228 0.100 0.174 -0.019 0.003 -0.118 0.000 0.375\n",
            " -0.306 0.289 -0.163 -0.002 0.007 0.001 -0.044 0.008 0.005 -0.236 -0.080\n",
            " -0.196 -0.141 -0.007 0.370 -0.158 0.024 0.019 -0.252 -0.034 0.126 -0.151\n",
            " 0.000 0.341 0.018]\n"
          ]
        }
      ]
    },
    {
      "cell_type": "markdown",
      "metadata": {
        "id": "0QoGFpkNJQJA"
      },
      "source": [
        "### Tasks to do:\n",
        "\n",
        "0. Try to play with L2 and L1 *lambdas* do get highest possible accuracy.\n",
        "- e.g. what if we increase *L1_lambda* to be the same as *L2_lambda*\n",
        "1. Repeat the calculations but for the VGG11 model.\n",
        "2. Compare amplitudes (plot histograms?) of model weights for the L2 and L1 case -- is L1 a strong feature selector?\n",
        "\n",
        "3. Reimplement pytorch [SGD method](https://pytorch.org/docs/stable/_modules/torch/optim/sgd.html#SGD) to get L1 regularization (|w| instead of w**2)\n",
        "\n",
        "Hint: change line\n",
        "```python\n",
        "if weight_decay != 0:\n",
        "    d_p = d_p.add(param, alpha=weight_decay)\n",
        "```\n",
        "to\n",
        "```python\n",
        "if weight_decay != 0:\n",
        "    d_p = d_p.add(torch.sign(param), alpha=weight_decay) \n",
        "```"
      ]
    }
  ]
}